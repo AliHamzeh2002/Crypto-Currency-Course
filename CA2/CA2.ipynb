{
 "cells": [
  {
   "cell_type": "markdown",
   "id": "7b623ede",
   "metadata": {
    "id": "NTEgXgFRA2qB"
   },
   "source": [
    "# <center>CryptoCurrencies CA#2<center>\n",
    "<h1><center>Transacting on Bitcoin TestNet / Firing up an Ethereum Node<center></h1>\n",
    "\n",
    "#### <center>\"Ali - Hamzehpour\"<center>\n",
    "#### <center>\"810100129\"<center>"
   ]
  },
  {
   "cell_type": "code",
   "execution_count": null,
   "id": "956f83cc",
   "metadata": {
    "colab": {
     "base_uri": "https://localhost:8080/"
    },
    "id": "232kpG2lA4Lq",
    "outputId": "6285f1fe-262b-405e-a7e0-82c2e2362cfc"
   },
   "outputs": [
    {
     "name": "stdout",
     "output_type": "stream",
     "text": [
      "Collecting base58\n",
      "  Downloading base58-2.1.1-py3-none-any.whl (5.6 kB)\n",
      "Collecting ecdsa\n",
      "  Downloading ecdsa-0.19.0-py2.py3-none-any.whl (149 kB)\n",
      "\u001b[2K     \u001b[90m━━━━━━━━━━━━━━━━━━━━━━━━━━━━━━━━━━━━━━━━\u001b[0m \u001b[32m149.3/149.3 kB\u001b[0m \u001b[31m2.9 MB/s\u001b[0m eta \u001b[36m0:00:00\u001b[0m\n",
      "\u001b[?25hCollecting pycryptodome\n",
      "  Downloading pycryptodome-3.20.0-cp35-abi3-manylinux_2_17_x86_64.manylinux2014_x86_64.whl (2.1 MB)\n",
      "\u001b[2K     \u001b[90m━━━━━━━━━━━━━━━━━━━━━━━━━━━━━━━━━━━━━━━━\u001b[0m \u001b[32m2.1/2.1 MB\u001b[0m \u001b[31m9.6 MB/s\u001b[0m eta \u001b[36m0:00:00\u001b[0m\n",
      "\u001b[?25hCollecting python-bitcoinlib\n",
      "  Downloading python_bitcoinlib-0.12.2-py3-none-any.whl (106 kB)\n",
      "\u001b[2K     \u001b[90m━━━━━━━━━━━━━━━━━━━━━━━━━━━━━━━━━━━━━━━━\u001b[0m \u001b[32m107.0/107.0 kB\u001b[0m \u001b[31m12.5 MB/s\u001b[0m eta \u001b[36m0:00:00\u001b[0m\n",
      "\u001b[?25hRequirement already satisfied: six>=1.9.0 in /usr/local/lib/python3.10/dist-packages (from ecdsa) (1.16.0)\n",
      "Installing collected packages: python-bitcoinlib, pycryptodome, ecdsa, base58\n",
      "Successfully installed base58-2.1.1 ecdsa-0.19.0 pycryptodome-3.20.0 python-bitcoinlib-0.12.2\n"
     ]
    }
   ],
   "source": [
    "!pip install base58 ecdsa pycryptodome python-bitcoinlib"
   ]
  },
  {
   "cell_type": "markdown",
   "id": "00f02e1f",
   "metadata": {},
   "source": [
    "## Address Generation\n",
    "\n",
    "### Question 1: Base58 and WIF address\n",
    "\n",
    "Difference Between Testnet and Mainnet Addresses\n",
    "\n",
    "Mainnet (Main Network):\n",
    "\n",
    "* The main Bitcoin network where actual bitcoins are transacted.\n",
    "\n",
    "* Addresses usually start with 1 for legacy addresses (P2PKH) or 3 for multi-signature addresses (P2SH).\n",
    "\n",
    "* The prefix for WIF private keys is \\x80.\n",
    "\n",
    "* The network byte for addresses is \\x00.\n",
    "\n",
    "Testnet (Test Network):\n",
    "\n",
    "* A separate Bitcoin network used for testing and development, where the bitcoins have no real-world value.\n",
    "\n",
    "* Addresses usually start with m or n for legacy addresses (P2PKH) or 2 for multi-signature addresses (P2SH).\n",
    "\n",
    "* The prefix for WIF private keys is \\xef.\n",
    "\n",
    "* The network byte for addresses is \\x6f."
   ]
  },
  {
   "cell_type": "code",
   "execution_count": null,
   "id": "59bcf5cb",
   "metadata": {
    "id": "a_K8LZKtA2qD"
   },
   "outputs": [],
   "source": [
    "import hashlib\n",
    "import base58\n",
    "import ecdsa\n",
    "import secrets\n",
    "from Crypto.Hash import RIPEMD160\n",
    "\n",
    "def generate_private_key():\n",
    "    return secrets.token_bytes(32)\n",
    "\n",
    "def private_key_to_public_key(private_key, compressed=False):\n",
    "    signing_key = ecdsa.SigningKey.from_string(private_key, curve=ecdsa.SECP256k1)\n",
    "    verifying_key = signing_key.verifying_key\n",
    "    if compressed:\n",
    "        public_key = b\"\\x02\" + verifying_key.to_string()[:32] if verifying_key.pubkey.point.y() % 2 == 0 else b\"\\x03\" + verifying_key.to_string()[:32]\n",
    "    else:\n",
    "        public_key = b\"\\x04\" + verifying_key.to_string()\n",
    "    return public_key\n",
    "\n",
    "def private_key_to_wif(private_key, compressed=False, testnet=True):\n",
    "    prefix = b'\\xef' if testnet else b'\\x80'\n",
    "    extended_key = prefix + private_key\n",
    "    if compressed:\n",
    "        extended_key += b'\\x01'\n",
    "\n",
    "    checksum = hashlib.sha256(hashlib.sha256(extended_key).digest()).digest()[:4]\n",
    "    wif_key = base58.b58encode(extended_key + checksum)\n",
    "\n",
    "    return wif_key.decode('utf-8')\n",
    "\n",
    "def ripemd160(data):\n",
    "    h = RIPEMD160.new()\n",
    "    h.update(data)\n",
    "    return h.digest()\n",
    "\n",
    "def public_key_to_address(public_key, testnet=True):\n",
    "    sha256_pub = hashlib.sha256(public_key).digest()\n",
    "    ripemd160_pub = ripemd160(sha256_pub)\n",
    "\n",
    "    network_byte = b'\\x6f' if testnet else b'\\x00'\n",
    "    network_pubkey_hash = network_byte + ripemd160_pub\n",
    "\n",
    "    checksum = hashlib.sha256(hashlib.sha256(network_pubkey_hash).digest()).digest()[:4]\n",
    "    binary_address = network_pubkey_hash + checksum\n",
    "    address = base58.b58encode(binary_address)\n",
    "\n",
    "    return address.decode('utf-8')\n",
    "\n",
    "def generate_address():\n",
    "    private_key = generate_private_key()\n",
    "    public_key = private_key_to_public_key(private_key, compressed=True)\n",
    "    wif_private_key = private_key_to_wif(private_key, compressed=True, testnet=True)\n",
    "    bitcoin_address = public_key_to_address(public_key, testnet=True)\n",
    "    return bitcoin_address\n",
    "\n"
   ]
  },
  {
   "cell_type": "code",
   "execution_count": null,
   "id": "761093fa",
   "metadata": {
    "colab": {
     "base_uri": "https://localhost:8080/"
    },
    "id": "_tS5OY4MA2qE",
    "outputId": "036a7b8b-1bf1-41dc-b958-a1eefa97cb5b"
   },
   "outputs": [
    {
     "name": "stdout",
     "output_type": "stream",
     "text": [
      "Private Key (hex): 1088a616d080d9a011cbbe71f5d9637bccba2962177d15bd0bab32aea796ac27\n",
      "Public Key (hex): 02137c753c148faf2a645d5e571c967e41087898efa7bb85ce3e2b15cd8e5dc8d6\n",
      "WIF Private Key: cN8qjuQEeKvmi2E7FtiMtFun45XhoGJekFaP5cx6cH93ch5cN9X1\n",
      "Bitcoin Testnet Address: n1FnpZB44jVSof8sWzDJo4meqQX4eoBY6x\n"
     ]
    }
   ],
   "source": [
    "private_key = generate_private_key()\n",
    "public_key = private_key_to_public_key(private_key, compressed=True)\n",
    "wif_private_key = private_key_to_wif(private_key, compressed=True, testnet=True)\n",
    "bitcoin_address = public_key_to_address(public_key, testnet=True)\n",
    "\n",
    "print(f'Private Key (hex): {private_key.hex()}')\n",
    "print(f'Public Key (hex): {public_key.hex()}')\n",
    "print(f'WIF Private Key: {wif_private_key}')\n",
    "print(f'Bitcoin Testnet Address: {bitcoin_address}')"
   ]
  },
  {
   "cell_type": "markdown",
   "id": "7f4c2b5d",
   "metadata": {
    "id": "bnhAeC-hA2qF"
   },
   "source": [
    "### Question 2: Vanity Address"
   ]
  },
  {
   "cell_type": "code",
   "execution_count": null,
   "id": "b62179b5",
   "metadata": {
    "id": "AtungfwzA2qF"
   },
   "outputs": [],
   "source": [
    "def generate_vanity_address(chars):\n",
    "    while True:\n",
    "        address = generate_address()\n",
    "        if address[1:len(chars) + 1] == chars:\n",
    "            return address\n"
   ]
  },
  {
   "cell_type": "code",
   "execution_count": null,
   "id": "052c2a11",
   "metadata": {
    "colab": {
     "base_uri": "https://localhost:8080/",
     "height": 36
    },
    "id": "trvlcG5JA2qG",
    "outputId": "f8487f7d-133b-4573-d74d-63b9ed6a466a"
   },
   "outputs": [
    {
     "data": {
      "application/vnd.google.colaboratory.intrinsic+json": {
       "type": "string"
      },
      "text/plain": [
       "'n4dcJ6KbV9ajdezmmwT7GtF8p3B8QrWWCS'"
      ]
     },
     "execution_count": 5,
     "metadata": {},
     "output_type": "execute_result"
    }
   ],
   "source": [
    "generate_vanity_address(\"4dc\")"
   ]
  },
  {
   "cell_type": "markdown",
   "id": "9470d8b0",
   "metadata": {},
   "source": [
    "## Part 2: Transacting on Bitcoin TestNet"
   ]
  },
  {
   "cell_type": "code",
   "execution_count": null,
   "id": "7eaeba9c",
   "metadata": {
    "colab": {
     "base_uri": "https://localhost:8080/"
    },
    "id": "7OLCHcbN1Tel",
    "outputId": "5e2413f4-0ebd-4b4b-da3f-5b24bf3aff77"
   },
   "outputs": [
    {
     "name": "stdout",
     "output_type": "stream",
     "text": [
      "Private Key (hex): 50246dc6ec7098755edd99b25b94eda72c66567f0fcc2c8a35b9b3af2d70773a\n",
      "Public Key (hex): 03b1ebe63f21a50f1bec6e1cf2ca2f20acd78937b92b79ff3882a3ee93b81f8f4c\n",
      "WIF Private Key: cQGVFD8mUrouH5zKpc7BV4ZfQESdCvaMFPkHSTBLg64bZpfJDeUc\n",
      "Bitcoin Testnet Address: mg9TrmfTpn9ohQ4B9EZv89xrWGemg6CJNX\n"
     ]
    }
   ],
   "source": [
    "private_key = generate_private_key()\n",
    "public_key = private_key_to_public_key(private_key, compressed=True)\n",
    "wif_private_key = private_key_to_wif(private_key, compressed=True, testnet=True)\n",
    "bitcoin_address = public_key_to_address(public_key, testnet=True)\n",
    "\n",
    "print(f'Private Key (hex): {private_key.hex()}')\n",
    "print(f'Public Key (hex): {public_key.hex()}')\n",
    "print(f'WIF Private Key: {wif_private_key}')\n",
    "print(f'Bitcoin Testnet Address: {bitcoin_address}')"
   ]
  },
  {
   "cell_type": "markdown",
   "id": "d2b4dd47",
   "metadata": {
    "id": "hJdVwf63A2qG"
   },
   "source": [
    "### Utility Functions:"
   ]
  },
  {
   "cell_type": "code",
   "execution_count": null,
   "id": "ce1e4c6e",
   "metadata": {
    "id": "6kB1dB2RA2qH"
   },
   "outputs": [],
   "source": [
    "import bitcoin.wallet\n",
    "from bitcoin.core import COIN, b2lx, serialize, x, lx, b2x\n",
    "\n",
    "bitcoin.SelectParams(\"testnet\")\n",
    "\n",
    "def P2PKH_scriptPubKey(key):\n",
    "    return [OP_DUP, OP_HASH160, Hash160(key), OP_EQUALVERIFY, OP_CHECKSIG]\n",
    "\n",
    "def P2PKH_scriptSig(txin, txout, txin_scriptPubKey, private_key, i =0):\n",
    "    signature = create_OP_CHECKSIG_signature(txin, txout, txin_scriptPubKey, private_key, i)\n",
    "    public_key = private_key.pub\n",
    "    return [signature, public_key]\n",
    "\n",
    "def get_txout_scriptPubKeys(amount_to_send1, amount_to_send2):\n",
    "    txout1_scriptPubKey = [OP_TRUE]\n",
    "    txout2_scriptPubKey = [OP_FALSE]\n",
    "    txout1 = create_txout(amount_to_send1, txout1_scriptPubKey)\n",
    "    txout2 = create_txout(amount_to_send2, txout2_scriptPubKey)\n",
    "    return txout1, txout2"
   ]
  },
  {
   "cell_type": "code",
   "execution_count": null,
   "id": "b8c08ed4",
   "metadata": {
    "id": "W5szpnLNA2qH"
   },
   "outputs": [],
   "source": [
    "import requests\n",
    "\n",
    "from bitcoin.core import b2x, lx, COIN, COutPoint, CMutableTxOut, CMutableTxIn, CMutableTransaction, Hash160\n",
    "from bitcoin.core.script import *\n",
    "from bitcoin.core.scripteval import VerifyScript, SCRIPT_VERIFY_P2SH\n",
    "\n",
    "\n",
    "def send_from_custom_transaction(amount_to_send, txid_to_spend, utxo_index, txin_scriptPubKey, txin_scriptSig, txout_scriptPubKey):\n",
    "    txout = create_txout(amount_to_send, txout_scriptPubKey)\n",
    "    txin = create_txin(txid_to_spend, utxo_index)\n",
    "    new_tx = create_signed_transaction(txin, txout, txin_scriptPubKey, txin_scriptSig)\n",
    "    return broadcast_transaction(new_tx)\n",
    "\n",
    "\n",
    "def create_txin(txid, utxo_index):\n",
    "    return CMutableTxIn(COutPoint(lx(txid), utxo_index))\n",
    "\n",
    "\n",
    "def create_txout(amount, scriptPubKey):\n",
    "    return CMutableTxOut(amount*COIN, CScript(scriptPubKey))\n",
    "\n",
    "\n",
    "def create_OP_CHECKSIG_signature(txin, txout, txin_scriptPubKey, seckey, i=0):\n",
    "    tx = CMutableTransaction(txin, txout)\n",
    "    sighash = SignatureHash(CScript(txin_scriptPubKey), tx,\n",
    "                            i, SIGHASH_ALL)\n",
    "    sig = seckey.sign(sighash) + bytes([SIGHASH_ALL])\n",
    "    return sig\n",
    "\n",
    "\n",
    "def create_signed_transaction(txins, txouts, txin_scriptPubKey, txin_scriptSigs):\n",
    "    tx = CMutableTransaction(txins, txouts)\n",
    "    for i, txin in enumerate(txins):\n",
    "        txin.scriptSig = CScript(txin_scriptSigs[i])\n",
    "        VerifyScript(txin.scriptSig, CScript(txin_scriptPubKey[i]), tx, i, (SCRIPT_VERIFY_P2SH,))\n",
    "    return tx\n",
    "\n",
    "\n",
    "def broadcast_transaction(tx):\n",
    "    raw_transaction = b2x(tx.serialize())\n",
    "    headers = {'content-type': 'application/x-www-form-urlencoded'}\n",
    "    return requests.post(\n",
    "        'https://api.blockcypher.com/v1/btc/test3/txs/push',\n",
    "        headers=headers,\n",
    "        data='{\"tx\": \"%s\"}' % raw_transaction,\n",
    "    )\n"
   ]
  },
  {
   "cell_type": "markdown",
   "id": "4552296b",
   "metadata": {
    "id": "OHKGUEjbA2qH"
   },
   "source": [
    "### Question 1: One input and two outputs transaction"
   ]
  },
  {
   "cell_type": "markdown",
   "id": "5ca50fd4",
   "metadata": {},
   "source": [
    "First we generate the private key and the address for this part:"
   ]
  },
  {
   "cell_type": "code",
   "execution_count": null,
   "id": "00ae1b53",
   "metadata": {
    "colab": {
     "base_uri": "https://localhost:8080/"
    },
    "id": "FUEQlvVkW6nP",
    "outputId": "79097e2a-0f7d-4820-f518-b151ab97b39b"
   },
   "outputs": [
    {
     "name": "stdout",
     "output_type": "stream",
     "text": [
      "Private Key (hex): 3e318f43131189270a55b56e914e12ffa8d80bec79016d5dda1239913cc3425d\n",
      "Public Key (hex): 0279a9f2c5a86c0c448d95de6653ef42de664a22477f7ef6025912190a5a831084\n",
      "WIF Private Key: cPfbdSfV5tdBADLRdxWjSJZ9zTxJLUakoSyFKcBDFYPCsATEq9es\n",
      "Bitcoin Testnet Address: mgAPDPnojeh4pi4YjJoeE6yeRwbP9jqqZm\n"
     ]
    }
   ],
   "source": [
    "private_key = generate_private_key()\n",
    "public_key = private_key_to_public_key(private_key, compressed=True)\n",
    "wif_private_key = private_key_to_wif(private_key, compressed=True, testnet=True)\n",
    "bitcoin_address = public_key_to_address(public_key, testnet=True)\n",
    "\n",
    "print(f'Private Key (hex): {private_key.hex()}')\n",
    "print(f'Public Key (hex): {public_key.hex()}')\n",
    "print(f'WIF Private Key: {wif_private_key}')\n",
    "print(f'Bitcoin Testnet Address: {bitcoin_address}')"
   ]
  },
  {
   "cell_type": "markdown",
   "id": "ec4dd139",
   "metadata": {},
   "source": [
    "Then we get some coint from a faucet for this address:\n",
    "\n",
    "#### [transaction link](https://live.blockcypher.com/btc-testnet/tx/f61a531342e14ee16b562d6c8b48157717cba3ad95b241fba53e13d55d4f2b06/)\n",
    "\n",
    "<p align=\"center\">\n",
    "    <img src=\"screenshots/q1-1.png\" alt=\"Image Description\">\n",
    "</p>"
   ]
  },
  {
   "cell_type": "markdown",
   "id": "c2d5204c",
   "metadata": {},
   "source": [
    "Now we make transaction with one input and two outputs where one of the outputs is spendable for every one and the other one is unspendable. The way we make the output unspendable is by using the OP_FALSE opcode which pushes a 0 to the stack and then fails the script. This way the output is unspendable. The way we make the output spendable is by using the OP_TRUE opcode which pushes a 1 to the stack and then the script is valid. This way the output is spendable."
   ]
  },
  {
   "cell_type": "code",
   "execution_count": null,
   "id": "aa99890c",
   "metadata": {
    "id": "4qATSRJzd2pP"
   },
   "outputs": [],
   "source": [
    "pv_key = \"cPfbdSfV5tdBADLRdxWjSJZ9zTxJLUakoSyFKcBDFYPCsATEq9es\"\n",
    "my_private_key = bitcoin.wallet.CBitcoinSecret(pv_key)\n",
    "my_public_key = my_private_key.pub\n",
    "my_address = bitcoin.wallet.P2PKHBitcoinAddress.from_pubkey(my_public_key)\n",
    "\n",
    "def send_from_P2PKH_transaction(amount_to_send1, amount_to_send2, txid_to_spend, utxo_index):\n",
    "    txout1, txout2 = get_txout_scriptPubKeys(amount_to_send1, amount_to_send2)\n",
    "    txin_scriptPubKey = P2PKH_scriptPubKey(my_public_key)\n",
    "    txin = create_txin(txid_to_spend, utxo_index)\n",
    "    txin_scriptSig = P2PKH_scriptSig([txin], [txout1, txout2], txin_scriptPubKey, my_private_key)\n",
    "    new_tx = create_signed_transaction([txin], [txout1, txout2], [txin_scriptPubKey], [txin_scriptSig])\n",
    "    return broadcast_transaction(new_tx)"
   ]
  },
  {
   "cell_type": "code",
   "execution_count": null,
   "id": "ee1f338e",
   "metadata": {
    "colab": {
     "base_uri": "https://localhost:8080/"
    },
    "id": "ik577C96jAmK",
    "outputId": "4aeeb82f-b5ff-4a31-da33-289605177533"
   },
   "outputs": [
    {
     "name": "stdout",
     "output_type": "stream",
     "text": [
      "my address:  mgAPDPnojeh4pi4YjJoeE6yeRwbP9jqqZm\n",
      "my public key:  0279a9f2c5a86c0c448d95de6653ef42de664a22477f7ef6025912190a5a831084\n",
      "my private key:  3e318f43131189270a55b56e914e12ffa8d80bec79016d5dda1239913cc3425d01\n",
      "response status code:  201\n",
      "reponse reason:  Created\n",
      "response text:  {\n",
      "  \"tx\": {\n",
      "    \"block_height\": -1,\n",
      "    \"block_index\": -1,\n",
      "    \"hash\": \"a4de5ac7051f8027e5670419258b799e8e3a3ab35488d423dddff501e07bb758\",\n",
      "    \"addresses\": [\n",
      "      \"mgAPDPnojeh4pi4YjJoeE6yeRwbP9jqqZm\"\n",
      "    ],\n",
      "    \"total\": 566,\n",
      "    \"fees\": 16963,\n",
      "    \"size\": 178,\n",
      "    \"vsize\": 178,\n",
      "    \"preference\": \"medium\",\n",
      "    \"relayed_by\": \"34.125.143.10\",\n",
      "    \"received\": \"2024-05-29T18:14:00.393702824Z\",\n",
      "    \"ver\": 1,\n",
      "    \"double_spend\": false,\n",
      "    \"vin_sz\": 1,\n",
      "    \"vout_sz\": 2,\n",
      "    \"confirmations\": 0,\n",
      "    \"inputs\": [\n",
      "      {\n",
      "        \"prev_hash\": \"f61a531342e14ee16b562d6c8b48157717cba3ad95b241fba53e13d55d4f2b06\",\n",
      "        \"output_index\": 1,\n",
      "        \"script\": \"483045022100e62d6cc680cb426832f72477570c2255e16e935daada76443ca108a9614d08c002203a0bbe881b92ac8189a60367ebdcf23c0948dc6e81f3324b4316b15c83bb710a01210279a9f2c5a86c0c448d95de6653ef42de664a22477f7ef6025912190a5a831084\",\n",
      "        \"output_value\": 17529,\n",
      "        \"sequence\": 4294967295,\n",
      "        \"addresses\": [\n",
      "          \"mgAPDPnojeh4pi4YjJoeE6yeRwbP9jqqZm\"\n",
      "        ],\n",
      "        \"script_type\": \"pay-to-pubkey-hash\",\n",
      "        \"age\": 2818651\n",
      "      }\n",
      "    ],\n",
      "    \"outputs\": [\n",
      "      {\n",
      "        \"value\": 565,\n",
      "        \"script\": \"51\",\n",
      "        \"addresses\": null,\n",
      "        \"script_type\": \"unknown\"\n",
      "      },\n",
      "      {\n",
      "        \"value\": 1,\n",
      "        \"script\": \"00\",\n",
      "        \"addresses\": null,\n",
      "        \"script_type\": \"unknown\"\n",
      "      }\n",
      "    ]\n",
      "  }\n",
      "}\n"
     ]
    }
   ],
   "source": [
    "all_money = 0.00019566\n",
    "amount_to_send1 = 0.00000565\n",
    "amount_to_send2 = 0.00000001\n",
    "txid_to_spend = ('f61a531342e14ee16b562d6c8b48157717cba3ad95b241fba53e13d55d4f2b06')\n",
    "utxo_index = 1\n",
    "\n",
    "print(\"my address: \", my_address)\n",
    "print(\"my public key: \", my_public_key.hex())\n",
    "print(\"my private key: \", my_private_key.hex())\n",
    "response = send_from_P2PKH_transaction(amount_to_send1, amount_to_send2, txid_to_spend, utxo_index)\n",
    "print(\"response status code: \", response.status_code)\n",
    "print(\"reponse reason: \", response.reason)\n",
    "print(\"response text: \", response.text)"
   ]
  },
  {
   "cell_type": "markdown",
   "id": "13d6dfe7",
   "metadata": {},
   "source": [
    "#### [transaction link](https://live.blockcypher.com/btc-testnet/tx/a4de5ac7051f8027e5670419258b799e8e3a3ab35488d423dddff501e07bb758/)\n",
    "<p align=\"center\">\n",
    "    <img src=\"screenshots/q1-2.png\" alt=\"Image Description\">\n",
    "</p>"
   ]
  },
  {
   "cell_type": "markdown",
   "id": "5ecf58c9",
   "metadata": {},
   "source": [
    "Now we spend the spendable output and returns it to our address."
   ]
  },
  {
   "cell_type": "code",
   "execution_count": null,
   "id": "c7e172b8",
   "metadata": {
    "id": "aYOz5GOUIuEI"
   },
   "outputs": [],
   "source": [
    "def send_from_P2PKH_transaction(amount_to_send, txid_to_spend, utxo_index):\n",
    "    txout_scriptPubKey = P2PKH_scriptPubKey(my_public_key)\n",
    "    txout = create_txout(amount_to_send, txout_scriptPubKey)\n",
    "    txin_scriptPubKey = [OP_TRUE]\n",
    "    txin = create_txin(txid_to_spend, utxo_index)\n",
    "    txin_scriptSig = []\n",
    "\n",
    "    new_tx = create_signed_transaction([txin], [txout], [txin_scriptPubKey], [txin_scriptSig])\n",
    "\n",
    "    return broadcast_transaction(new_tx)"
   ]
  },
  {
   "cell_type": "code",
   "execution_count": null,
   "id": "8c4daa1b",
   "metadata": {
    "colab": {
     "base_uri": "https://localhost:8080/"
    },
    "id": "tJHBGWVOIyli",
    "outputId": "f24b8044-f9ed-4a4c-c128-58f2dab8b681"
   },
   "outputs": [
    {
     "name": "stdout",
     "output_type": "stream",
     "text": [
      "my address:  mgAPDPnojeh4pi4YjJoeE6yeRwbP9jqqZm\n",
      "my public key:  0279a9f2c5a86c0c448d95de6653ef42de664a22477f7ef6025912190a5a831084\n",
      "my private key:  3e318f43131189270a55b56e914e12ffa8d80bec79016d5dda1239913cc3425d01\n",
      "response status code:  201\n",
      "reponse reason:  Created\n",
      "response text:  {\n",
      "  \"tx\": {\n",
      "    \"block_height\": -1,\n",
      "    \"block_index\": -1,\n",
      "    \"hash\": \"149f8eeffc840d9f463b280443cd8318dd45a4c2f26abe173c4acaa1a11a0e54\",\n",
      "    \"addresses\": [\n",
      "      \"mgAPDPnojeh4pi4YjJoeE6yeRwbP9jqqZm\"\n",
      "    ],\n",
      "    \"total\": 60,\n",
      "    \"fees\": 505,\n",
      "    \"size\": 85,\n",
      "    \"vsize\": 85,\n",
      "    \"preference\": \"low\",\n",
      "    \"relayed_by\": \"34.125.143.10\",\n",
      "    \"received\": \"2024-05-29T18:15:50.925987274Z\",\n",
      "    \"ver\": 1,\n",
      "    \"double_spend\": false,\n",
      "    \"vin_sz\": 1,\n",
      "    \"vout_sz\": 1,\n",
      "    \"confirmations\": 0,\n",
      "    \"inputs\": [\n",
      "      {\n",
      "        \"prev_hash\": \"a4de5ac7051f8027e5670419258b799e8e3a3ab35488d423dddff501e07bb758\",\n",
      "        \"output_index\": 0,\n",
      "        \"output_value\": 565,\n",
      "        \"sequence\": 4294967295,\n",
      "        \"script_type\": \"unknown\",\n",
      "        \"age\": 0\n",
      "      }\n",
      "    ],\n",
      "    \"outputs\": [\n",
      "      {\n",
      "        \"value\": 60,\n",
      "        \"script\": \"76a914071431453d7a3247b44d5c98d50afae2e98a028e88ac\",\n",
      "        \"addresses\": [\n",
      "          \"mgAPDPnojeh4pi4YjJoeE6yeRwbP9jqqZm\"\n",
      "        ],\n",
      "        \"script_type\": \"pay-to-pubkey-hash\"\n",
      "      }\n",
      "    ]\n",
      "  }\n",
      "}\n"
     ]
    }
   ],
   "source": [
    "all_money = 0.00000565\n",
    "amount_to_send = 0.00000060\n",
    "txid_to_spend = ('a4de5ac7051f8027e5670419258b799e8e3a3ab35488d423dddff501e07bb758')\n",
    "utxo_index = 0\n",
    "\n",
    "print(\"my address: \", my_address)\n",
    "print(\"my public key: \", my_public_key.hex())\n",
    "print(\"my private key: \", my_private_key.hex())\n",
    "response = send_from_P2PKH_transaction(amount_to_send, txid_to_spend, utxo_index)\n",
    "print(\"response status code: \", response.status_code)\n",
    "print(\"reponse reason: \", response.reason)\n",
    "print(\"response text: \", response.text)"
   ]
  },
  {
   "cell_type": "markdown",
   "id": "4fc443bf",
   "metadata": {},
   "source": [
    "#### [transaction link](https://live.blockcypher.com/btc-testnet/address/mgAPDPnojeh4pi4YjJoeE6yeRwbP9jqqZm/)\n",
    "\n",
    "<p align=\"center\">\n",
    "    <img src=\"screenshots/q1-3.png\" alt=\"Image Description\">\n",
    "</p>"
   ]
  },
  {
   "cell_type": "markdown",
   "id": "babeb909",
   "metadata": {
    "id": "kCiz3CqDA2qI"
   },
   "source": [
    "### Question 2: Pay to MultiSig transaction (P2MS)\n"
   ]
  },
  {
   "cell_type": "code",
   "execution_count": null,
   "id": "e05e524e",
   "metadata": {},
   "outputs": [
    {
     "name": "stdout",
     "output_type": "stream",
     "text": [
      "Private Key (hex): c3719a0162a5c33927b0ae8b79d733dfb8bae653f4e62663019c0f37ddd9af68\n",
      "Public Key (hex): 0259778155081d45164f1473a48b23ff81adce8fa0c21a0498b43d8dda542bd373\n",
      "WIF Private Key: cU8cqmjffR76VMuPAo3rDtwgjzWHpRJT71pxvqzAb7bP7HcSYjyb\n",
      "Bitcoin Testnet Address: moFQa4qRz6EWorB4s3Zph7ZFiUSmWz3r6J\n"
     ]
    }
   ],
   "source": [
    "private_key = generate_private_key()\n",
    "public_key = private_key_to_public_key(private_key, compressed=True)\n",
    "wif_private_key = private_key_to_wif(private_key, compressed=True, testnet=True)\n",
    "bitcoin_address = public_key_to_address(public_key, testnet=True)\n",
    "\n",
    "print(f'Private Key (hex): {private_key.hex()}')\n",
    "print(f'Public Key (hex): {public_key.hex()}')\n",
    "print(f'WIF Private Key: {wif_private_key}')\n",
    "print(f'Bitcoin Testnet Address: {bitcoin_address}')"
   ]
  },
  {
   "cell_type": "markdown",
   "id": "011337de",
   "metadata": {},
   "source": [
    "Again we create a new private key and new address and gets coin for it:\n",
    "\n",
    "#### [transaction link](https://live.blockcypher.com/btc-testnet/tx/75abd9864fdd93bd508e82d47b0de3bb3c69f7688282f3ac7a52b4b469990ecb/)\n",
    "\n",
    "<p align=\"center\">\n",
    "    <img src=\"screenshots/q2-1.png\" alt=\"Image Description\">\n",
    "</p>"
   ]
  },
  {
   "cell_type": "markdown",
   "id": "4d6fe88f",
   "metadata": {},
   "source": [
    "Then we create 3 private addresses:"
   ]
  },
  {
   "cell_type": "code",
   "execution_count": null,
   "id": "6c143f28",
   "metadata": {
    "colab": {
     "base_uri": "https://localhost:8080/"
    },
    "id": "GcmcxqorA2qI",
    "outputId": "4220b565-b2b9-4983-dbfc-0e35e6e9772c"
   },
   "outputs": [
    {
     "name": "stdout",
     "output_type": "stream",
     "text": [
      "cSCAgHQhaeitHx7riSVWyqcdzZsfWAgmvt1KQUMjmsezvVZK7KoM\n",
      "cUwcBAHL8BgGEmUo5PZgz6KwdkFMFKtKa4KtDRhXrthvuCugXu22\n",
      "cTnq893hPQknctLPHe71yRgyNcHrj34uc48r7EtPgrqGAiVVwfgQ\n"
     ]
    }
   ],
   "source": [
    "pv1 = private_key_to_wif(generate_private_key(), compressed=True, testnet=True)\n",
    "pv2 = private_key_to_wif(generate_private_key(), compressed=True, testnet=True)\n",
    "pv3 = private_key_to_wif(generate_private_key(), compressed=True, testnet=True)\n",
    "print(pv1)\n",
    "print(pv2)\n",
    "print(pv3)"
   ]
  },
  {
   "cell_type": "markdown",
   "id": "1f13b347",
   "metadata": {},
   "source": [
    "The function send_from_P2PKH_transaction is designed to create a multi-signature (multi-sig) Bitcoin transaction. In this context, a multi-sig transaction requires multiple signatures from different private keys to be spent. The script for the transaction output (txout_scriptPubKey) is constructed using the `OP_CHECKMULTISIG` opcode, which specifies that signatures from at least two of the three provided public keys (public_key1, public_key2, public_key3) are needed to spend the output. This is achieved by including the `OP_2` opcode (indicating that two signatures are required) followed by the three public keys and ending with the OP_3 opcode (indicating that three public keys are involved) and `OP_CHECKMULTISIG`. The input (txin) is created from the specified UTXO (txid_to_spend and utxo_index), and its unlocking script (txin_scriptSig) is generated by signing the transaction with the sender's private key (my_private_key). The transaction is then constructed and signed before being broadcast to the Bitcoin network. This setup ensures that the output can only be spent if at least two of the specified private keys provide valid signatures, enhancing the security of the transaction by requiring multiple approvals."
   ]
  },
  {
   "cell_type": "code",
   "execution_count": null,
   "id": "a098696e",
   "metadata": {},
   "outputs": [
    {
     "name": "stdout",
     "output_type": "stream",
     "text": [
      "moFQa4qRz6EWorB4s3Zph7ZFiUSmWz3r6J\n"
     ]
    }
   ],
   "source": [
    "pv_key = \"cU8cqmjffR76VMuPAo3rDtwgjzWHpRJT71pxvqzAb7bP7HcSYjyb\"\n",
    "\n",
    "\n",
    "my_private_key = bitcoin.wallet.CBitcoinSecret(pv_key)\n",
    "my_public_key = my_private_key.pub\n",
    "my_address = bitcoin.wallet.P2PKHBitcoinAddress.from_pubkey(my_public_key)\n",
    "print(my_address)\n",
    "\n",
    "private_key1 = bitcoin.wallet.CBitcoinSecret(pv1)\n",
    "private_key2 = bitcoin.wallet.CBitcoinSecret(pv2)\n",
    "private_key3 = bitcoin.wallet.CBitcoinSecret(pv3)\n",
    "\n",
    "public_key1 = private_key1.pub\n",
    "public_key2 = private_key2.pub\n",
    "public_key3 = private_key3.pub\n",
    "\n",
    "def send_from_P2PKH_transaction(amount_to_send, txid_to_spend, utxo_index):\n",
    "    txout_scriptPubKey = [OP_2, public_key1, public_key2, public_key3, OP_3, OP_CHECKMULTISIG]\n",
    "    txout = create_txout(amount_to_send, txout_scriptPubKey)\n",
    "    txin_scriptPubKey = P2PKH_scriptPubKey(my_public_key)\n",
    "    txin = create_txin(txid_to_spend, utxo_index)\n",
    "    txin_scriptSig = P2PKH_scriptSig([txin], [txout], txin_scriptPubKey, my_private_key)\n",
    "    new_tx = create_signed_transaction([txin], [txout], [txin_scriptPubKey], [txin_scriptSig])\n",
    "    return broadcast_transaction(new_tx)"
   ]
  },
  {
   "cell_type": "code",
   "execution_count": null,
   "id": "295db379",
   "metadata": {},
   "outputs": [
    {
     "name": "stdout",
     "output_type": "stream",
     "text": [
      "response status code:  201\n",
      "reponse reason:  Created\n",
      "response text:  {\n",
      "  \"tx\": {\n",
      "    \"block_height\": -1,\n",
      "    \"block_index\": -1,\n",
      "    \"hash\": \"7b0522b5622d9252a0056408ec2eb8b32ee6dfb4b89b58d3c1d0d5c036499154\",\n",
      "    \"addresses\": [\n",
      "      \"moFQa4qRz6EWorB4s3Zph7ZFiUSmWz3r6J\",\n",
      "      \"zWC8iLDhSpH8JnbfTFTJRNpYjXF24Bqb4t\"\n",
      "    ],\n",
      "    \"total\": 7715,\n",
      "    \"fees\": 10992,\n",
      "    \"size\": 272,\n",
      "    \"vsize\": 272,\n",
      "    \"preference\": \"low\",\n",
      "    \"relayed_by\": \"34.125.143.10\",\n",
      "    \"received\": \"2024-05-29T20:17:48.371964575Z\",\n",
      "    \"ver\": 1,\n",
      "    \"double_spend\": false,\n",
      "    \"vin_sz\": 1,\n",
      "    \"vout_sz\": 1,\n",
      "    \"confirmations\": 0,\n",
      "    \"inputs\": [\n",
      "      {\n",
      "        \"prev_hash\": \"096b652fa963eae6d783b5c90fd4eb5a4faa1f245c927d7a74bcd4115ecf8306\",\n",
      "        \"output_index\": 1,\n",
      "        \"script\": \"483045022100fb88906a17157e02dcc5199848ac71525b900064879fb4d3442d8788e88ce860022070c36242311e337b3bc6697e101af97c012a54b755e1095982713ecf7796fcd601210259778155081d45164f1473a48b23ff81adce8fa0c21a0498b43d8dda542bd373\",\n",
      "        \"output_value\": 18707,\n",
      "        \"sequence\": 4294967295,\n",
      "        \"addresses\": [\n",
      "          \"moFQa4qRz6EWorB4s3Zph7ZFiUSmWz3r6J\"\n",
      "        ],\n",
      "        \"script_type\": \"pay-to-pubkey-hash\",\n",
      "        \"age\": 0\n",
      "      }\n",
      "    ],\n",
      "    \"outputs\": [\n",
      "      {\n",
      "        \"value\": 7715,\n",
      "        \"script\": \"52210307703f8616d6e71c4d740e883eb33dfdf6d2fa17a5c05b2768f76b7828efb11221026c4ec8c6d4974fea0b71146656218e65019e38547f9f814f52a26173a2c2d909210244ed25b4f14bc1777be4749244a9911a68828fd12b75702a7d538adb15971bb253ae\",\n",
      "        \"addresses\": [\n",
      "          \"zWC8iLDhSpH8JnbfTFTJRNpYjXF24Bqb4t\"\n",
      "        ],\n",
      "        \"script_type\": \"pay-to-multi-pubkey-hash\"\n",
      "      }\n",
      "    ]\n",
      "  }\n",
      "}\n"
     ]
    }
   ],
   "source": [
    "all_money = 0.00018707\n",
    "amount_to_send = 0.00007715\n",
    "txid_to_spend = ('096b652fa963eae6d783b5c90fd4eb5a4faa1f245c927d7a74bcd4115ecf8306')\n",
    "utxo_index = 1\n",
    "\n",
    "response = send_from_P2PKH_transaction(amount_to_send, txid_to_spend, utxo_index)\n",
    "print(\"response status code: \", response.status_code)\n",
    "print(\"reponse reason: \", response.reason)\n",
    "print(\"response text: \", response.text)"
   ]
  },
  {
   "cell_type": "markdown",
   "id": "b7d5f6b3",
   "metadata": {},
   "source": [
    "#### [transaction link](https://live.blockcypher.com/btc-testnet/tx/7b0522b5622d9252a0056408ec2eb8b32ee6dfb4b89b58d3c1d0d5c036499154/)\n",
    "\n",
    "<p align=\"center\">\n",
    "    <img src=\"screenshots/q2-2.png\" alt=\"Image Description\">\n",
    "</p>"
   ]
  },
  {
   "cell_type": "markdown",
   "id": "6dbb8516",
   "metadata": {},
   "source": [
    "Now we spend it by providing two signatures:"
   ]
  },
  {
   "cell_type": "code",
   "execution_count": null,
   "id": "a2fb3523",
   "metadata": {
    "id": "P1T6ZhSZsXgk"
   },
   "outputs": [],
   "source": [
    "def scriptSig(txin, txout, txin_scriptPubKey):\n",
    "    signature1 = create_OP_CHECKSIG_signature(txin[0], txout, txin_scriptPubKey, private_key1)\n",
    "    signature2 = create_OP_CHECKSIG_signature(txin[0], txout, txin_scriptPubKey, private_key2)\n",
    "    return [OP_0, signature1, signature2]\n",
    "\n",
    "def send_from_P2PKH_transaction(amount_to_send, txid_to_spend, utxo_index):\n",
    "    txout_scriptPubKey = P2PKH_scriptPubKey(my_public_key)\n",
    "    txout = create_txout(amount_to_send, txout_scriptPubKey)\n",
    "    txin_scriptPubKey = [OP_2, public_key1, public_key2, public_key3, OP_3, OP_CHECKMULTISIG]\n",
    "    txin = create_txin(txid_to_spend, utxo_index)\n",
    "    txin_scriptSig = scriptSig([txin], [txout], txin_scriptPubKey)\n",
    "\n",
    "    new_tx = create_signed_transaction([txin], [txout], [txin_scriptPubKey], [txin_scriptSig])\n",
    "\n",
    "    return broadcast_transaction(new_tx)\n"
   ]
  },
  {
   "cell_type": "code",
   "execution_count": null,
   "id": "aca417f0",
   "metadata": {
    "colab": {
     "base_uri": "https://localhost:8080/"
    },
    "id": "b9ACXcDnsif_",
    "outputId": "fc5d3bf7-f3dd-4738-cfd9-4802ae311463"
   },
   "outputs": [
    {
     "name": "stdout",
     "output_type": "stream",
     "text": [
      "my address:  mxtM4YfiT8HAoitbQueeEQv9B7zmWyk9Ds\n",
      "my public key:  03bc156be04913daa388c7204a9823a15f4f66cdd6f9d0e940ce09a6194ca1134c\n",
      "my private key:  04a1668fe873e5fd74a275e0186f3cad34a9cba9e6ef228d5e02eb7790d8c18e01\n",
      "response status code:  201\n",
      "reponse reason:  Created\n",
      "response text:  {\n",
      "  \"tx\": {\n",
      "    \"block_height\": -1,\n",
      "    \"block_index\": -1,\n",
      "    \"hash\": \"5b996e6f90540f13ede51f0aa5cd72a159791041bdf29663e3927dd3195aa19f\",\n",
      "    \"addresses\": [\n",
      "      \"zCy2Bg7BUf4TCk68jVswFLPpEvUzCar1ci\",\n",
      "      \"mxtM4YfiT8HAoitbQueeEQv9B7zmWyk9Ds\"\n",
      "    ],\n",
      "    \"total\": 5,\n",
      "    \"fees\": 17710,\n",
      "    \"size\": 231,\n",
      "    \"vsize\": 231,\n",
      "    \"preference\": \"medium\",\n",
      "    \"relayed_by\": \"34.106.119.192\",\n",
      "    \"received\": \"2024-05-29T07:33:56.008906306Z\",\n",
      "    \"ver\": 1,\n",
      "    \"double_spend\": false,\n",
      "    \"vin_sz\": 1,\n",
      "    \"vout_sz\": 1,\n",
      "    \"confirmations\": 0,\n",
      "    \"inputs\": [\n",
      "      {\n",
      "        \"prev_hash\": \"d9779aefbbe106b7d27810ac5d3a9d47082c9d3577ed4f1a20e4db490c0f2faa\",\n",
      "        \"output_index\": 0,\n",
      "        \"script\": \"00483045022100e853b6dc2676460a9e2d85012be78eda2e37ffaf993f8f3c98d3a739002b213802207b56d742589fcb4b2f7022f898b7f83471a0c0bc738328e5aaf3b2c45ececca901473044022050db671ef4cce8b423236de6c9e4316a0b53a598ef24d5e334ac7b7a23e0ee9a02204ffe0d54a00aa946876fc8a24630e9324ad415fdf6b3b54b3767f357404cb66601\",\n",
      "        \"output_value\": 17715,\n",
      "        \"sequence\": 4294967295,\n",
      "        \"addresses\": [\n",
      "          \"zCy2Bg7BUf4TCk68jVswFLPpEvUzCar1ci\"\n",
      "        ],\n",
      "        \"script_type\": \"pay-to-multi-pubkey-hash\",\n",
      "        \"age\": 0\n",
      "      }\n",
      "    ],\n",
      "    \"outputs\": [\n",
      "      {\n",
      "        \"value\": 5,\n",
      "        \"script\": \"76a914be85e0e8ea18282ea86d7bbfdd9a40718a936e4f88ac\",\n",
      "        \"addresses\": [\n",
      "          \"mxtM4YfiT8HAoitbQueeEQv9B7zmWyk9Ds\"\n",
      "        ],\n",
      "        \"script_type\": \"pay-to-pubkey-hash\"\n",
      "      }\n",
      "    ]\n",
      "  }\n",
      "}\n"
     ]
    }
   ],
   "source": [
    "all_money = 0.00017715\n",
    "amount_to_send = 0.00000005\n",
    "txid_to_spend = ('d9779aefbbe106b7d27810ac5d3a9d47082c9d3577ed4f1a20e4db490c0f2faa')\n",
    "utxo_index = 0\n",
    "\n",
    "print(\"my address: \", my_address)\n",
    "print(\"my public key: \", my_public_key.hex())\n",
    "print(\"my private key: \", my_private_key.hex())\n",
    "response = send_from_P2PKH_transaction(amount_to_send, txid_to_spend, utxo_index)\n",
    "print(\"response status code: \", response.status_code)\n",
    "print(\"reponse reason: \", response.reason)\n",
    "print(\"response text: \", response.text)"
   ]
  },
  {
   "cell_type": "markdown",
   "id": "acd65364",
   "metadata": {},
   "source": [
    "#### [transaction link](https://live.blockcypher.com/btc-testnet/tx/e60d565b68e5974227f6ccb0c7c600d44582ebe53d8140a480a588b7621c2ad0/)\n",
    "\n",
    "<p align=\"center\">\n",
    "    <img src=\"screenshots/q2-3.png\" alt=\"Image Description\">\n",
    "</p>"
   ]
  },
  {
   "cell_type": "markdown",
   "id": "66c5c0a0",
   "metadata": {
    "id": "4KXXoDebtF6y"
   },
   "source": [
    "**2.3**: Custom Transaction (BitCoin Scripting)\n"
   ]
  },
  {
   "cell_type": "markdown",
   "id": "e6277f58",
   "metadata": {},
   "source": [
    "Again we create a new address and get the coin:"
   ]
  },
  {
   "cell_type": "code",
   "execution_count": null,
   "id": "a7461148",
   "metadata": {
    "colab": {
     "base_uri": "https://localhost:8080/"
    },
    "id": "j426x0VdR0QL",
    "outputId": "54602d97-e7ea-4808-a254-2319c8901c10"
   },
   "outputs": [
    {
     "name": "stdout",
     "output_type": "stream",
     "text": [
      "Private Key (hex): 261a7b24b4122757251a7882a99ba9b68674448bd8d9e169106e570d4872b48e\n",
      "Public Key (hex): 02897ad0f50681a5eada729ffe28da50a351479100beb99b4ba83df7b8134bcf92\n",
      "WIF Private Key: cNrmbhRoY4RFFxbop9w4avrTZTmH1NHhLik5kEUHVk5h3eQ8LPSX\n",
      "Bitcoin Testnet Address: mjjtHVT4DmR11GH8rUC6r9obR42x9ssDV8\n"
     ]
    }
   ],
   "source": [
    "private_key = generate_private_key()\n",
    "public_key = private_key_to_public_key(private_key, compressed=True)\n",
    "wif_private_key = private_key_to_wif(private_key, compressed=True, testnet=True)\n",
    "bitcoin_address = public_key_to_address(public_key, testnet=True)\n",
    "\n",
    "print(f'Private Key (hex): {private_key.hex()}')\n",
    "print(f'Public Key (hex): {public_key.hex()}')\n",
    "print(f'WIF Private Key: {wif_private_key}')\n",
    "print(f'Bitcoin Testnet Address: {bitcoin_address}')"
   ]
  },
  {
   "cell_type": "markdown",
   "id": "a145d5f3",
   "metadata": {},
   "source": [
    "#### [transaction link](https://live.blockcypher.com/btc-testnet/tx/6059c87cdf13dc8feac75de48bc2cf9abdbb3af8aa9039bfe9d7369f488eadad/)\n",
    "\n",
    "<p align=\"center\">\n",
    "    <img src=\"screenshots/q3-1.png\" alt=\"Image Description\">\n",
    "</p>"
   ]
  },
  {
   "cell_type": "markdown",
   "id": "119e3230",
   "metadata": {},
   "source": [
    "\n",
    "The provided txout_scriptPubKey creates a Bitcoin output with a conditional spending mechanism using the `OP_IF ... OP_ELSE ... OP_ENDIF `structure. This script allows the output to be spent in one of two ways: either by fulfilling a numerical condition or by providing a prehashed password. The first part of the script, within the OP_IF block, requires the spender to provide a number such that when subtracted from another number on the stack, the result is greater than 18 (`OP_SUB 18 OP_GREATERTHAN`). If this condition is not met, the script execution jumps to the `OP_ELSE` block, where the spender must provide a value that, when hashed using `OP_HASH160`, matches a predefined hash (password_hash). This dual-condition mechanism enhances the security and flexibility of the transaction by allowing it to be authorized either through a numerical threshold or a password verification.\n",
    "\n",
    "\n",
    "\n",
    "\n",
    "\n"
   ]
  },
  {
   "cell_type": "code",
   "execution_count": null,
   "id": "fe7a4f5c",
   "metadata": {
    "id": "2glssv0AtITd"
   },
   "outputs": [],
   "source": [
    "import bitcoin.wallet\n",
    "from bitcoin.core import COIN, b2lx, serialize, x, lx, b2x\n",
    "\n",
    "pv_key = \"cNrmbhRoY4RFFxbop9w4avrTZTmH1NHhLik5kEUHVk5h3eQ8LPSX\"\n",
    "my_private_key = bitcoin.wallet.CBitcoinSecret(pv_key)\n",
    "my_public_key = my_private_key.pub\n",
    "my_address = bitcoin.wallet.P2PKHBitcoinAddress.from_pubkey(my_public_key)\n",
    "\n",
    "def P2PKH_scriptPubKey(key):\n",
    "    return [OP_DUP, OP_HASH160, Hash160(key), OP_EQUALVERIFY, OP_CHECKSIG]\n",
    "\n",
    "def P2PKH_scriptSig(txin, txout, txin_scriptPubKey):\n",
    "    signature = create_OP_CHECKSIG_signature(txin, txout, txin_scriptPubKey, my_private_key)\n",
    "    return [signature, my_public_key]\n",
    "\n",
    "def get_txout_scriptPubKeys(amount_to_send):\n",
    "\n",
    "    PASSWORD = 810100129\n",
    "    password_hash = Hash160((PASSWORD).to_bytes(30, byteorder=\"little\"))\n",
    "    txout_scriptPubKey = [OP_IF, OP_SUB, 18, OP_GREATERTHAN, OP_ELSE, OP_HASH160, password_hash, OP_EQUAL, OP_ENDIF]\n",
    "    txout = create_txout(amount_to_send, txout_scriptPubKey)\n",
    "    return txout\n",
    "\n",
    "def send_from_P2PKH_transaction(amount_to_send, txid_to_spend, utxo_index):\n",
    "    txout = get_txout_scriptPubKeys(amount_to_send)\n",
    "    txin_scriptPubKey = P2PKH_scriptPubKey(my_public_key)\n",
    "    txin = create_txin(txid_to_spend, utxo_index)\n",
    "    txin_scriptSig = P2PKH_scriptSig([txin], [txout], txin_scriptPubKey)\n",
    "    new_tx = create_signed_transaction([txin], [txout], [txin_scriptPubKey], [txin_scriptSig])\n",
    "    return broadcast_transaction(new_tx)"
   ]
  },
  {
   "cell_type": "code",
   "execution_count": null,
   "id": "10a6b216",
   "metadata": {
    "colab": {
     "base_uri": "https://localhost:8080/"
    },
    "id": "r_4k2Hxj_QY5",
    "outputId": "3037283b-63d2-4fcc-d648-02957d4b1649"
   },
   "outputs": [
    {
     "name": "stdout",
     "output_type": "stream",
     "text": [
      "my address:  mjjtHVT4DmR11GH8rUC6r9obR42x9ssDV8\n",
      "my public key:  02897ad0f50681a5eada729ffe28da50a351479100beb99b4ba83df7b8134bcf92\n",
      "my private key:  261a7b24b4122757251a7882a99ba9b68674448bd8d9e169106e570d4872b48e01\n",
      "response status code:  201\n",
      "reponse reason:  Created\n",
      "response text:  {\n",
      "  \"tx\": {\n",
      "    \"block_height\": -1,\n",
      "    \"block_index\": -1,\n",
      "    \"hash\": \"630b771a5d9a6043c229d7edc148d46ec93007e56fef2e98076f4ff79f2bfcf6\",\n",
      "    \"addresses\": [\n",
      "      \"mjjtHVT4DmR11GH8rUC6r9obR42x9ssDV8\"\n",
      "    ],\n",
      "    \"total\": 5129,\n",
      "    \"fees\": 10000,\n",
      "    \"size\": 196,\n",
      "    \"vsize\": 196,\n",
      "    \"preference\": \"low\",\n",
      "    \"relayed_by\": \"34.125.143.10\",\n",
      "    \"received\": \"2024-05-29T18:38:10.181105864Z\",\n",
      "    \"ver\": 1,\n",
      "    \"double_spend\": false,\n",
      "    \"vin_sz\": 1,\n",
      "    \"vout_sz\": 1,\n",
      "    \"confirmations\": 0,\n",
      "    \"inputs\": [\n",
      "      {\n",
      "        \"prev_hash\": \"19ccae138a5cb45747816535b9d63fc99c9b1e1ce54de782aba2f386799ba5d3\",\n",
      "        \"output_index\": 0,\n",
      "        \"script\": \"47304402205dd91a92c48e56dca0797deb3e7b6ec5ce81208c76e78de4a743bc18febfd85002206fc3bb40a237b958baa01156bc70d614c02de2bf02367983d7ca495e8d8e623d012102897ad0f50681a5eada729ffe28da50a351479100beb99b4ba83df7b8134bcf92\",\n",
      "        \"output_value\": 15129,\n",
      "        \"sequence\": 4294967295,\n",
      "        \"addresses\": [\n",
      "          \"mjjtHVT4DmR11GH8rUC6r9obR42x9ssDV8\"\n",
      "        ],\n",
      "        \"script_type\": \"pay-to-pubkey-hash\",\n",
      "        \"age\": 0\n",
      "      }\n",
      "    ],\n",
      "    \"outputs\": [\n",
      "      {\n",
      "        \"value\": 5129,\n",
      "        \"script\": \"63940112a067a9142dc0ce4cbffad96898e7dacf4f7011f53d14b9b68768\",\n",
      "        \"addresses\": null,\n",
      "        \"script_type\": \"unknown\"\n",
      "      }\n",
      "    ]\n",
      "  }\n",
      "}\n"
     ]
    }
   ],
   "source": [
    "all_money = 0.00015129\n",
    "amount_to_send = 0.00005129\n",
    "txid_to_spend = ('19ccae138a5cb45747816535b9d63fc99c9b1e1ce54de782aba2f386799ba5d3')\n",
    "utxo_index = 0\n",
    "print(\"my address: \", my_address)\n",
    "print(\"my public key: \", my_public_key.hex())\n",
    "print(\"my private key: \", my_private_key.hex())\n",
    "response = send_from_P2PKH_transaction(amount_to_send, txid_to_spend, utxo_index)\n",
    "print(\"response status code: \", response.status_code)\n",
    "print(\"reponse reason: \", response.reason)\n",
    "print(\"response text: \", response.text)"
   ]
  },
  {
   "cell_type": "markdown",
   "id": "63e263b3",
   "metadata": {},
   "source": [
    "#### [transaction link](https://live.blockcypher.com/btc-testnet/tx/630b771a5d9a6043c229d7edc148d46ec93007e56fef2e98076f4ff79f2bfcf6/)\n",
    "\n",
    "<p align=\"center\">\n",
    "    <img src=\"screenshots/q3-2.png\" alt=\"Image Description\">\n",
    "</p>"
   ]
  },
  {
   "cell_type": "markdown",
   "id": "fcde51e9",
   "metadata": {},
   "source": [
    "Now in order to spend it using password we give `[(PASSWORD).to_bytes(30, byteorder=\"little\"), OP_FALSE]` as the script sig."
   ]
  },
  {
   "cell_type": "code",
   "execution_count": null,
   "id": "f5cd7cd6",
   "metadata": {
    "id": "lTdcBoQ0wa2J"
   },
   "outputs": [],
   "source": [
    "def send_from_P2PKH_transaction(amount_to_send, txid_to_spend, utxo_index):\n",
    "    txout_scriptPubKey = P2PKH_scriptPubKey(my_public_key)\n",
    "    txout = create_txout(amount_to_send, txout_scriptPubKey)\n",
    "    PASSWORD = 810100129\n",
    "    password_hash = Hash160((PASSWORD).to_bytes(30, byteorder=\"little\"))\n",
    "\n",
    "    txin_scriptPubKey = [OP_IF, OP_SUB, 18, OP_GREATERTHAN, OP_ELSE, OP_HASH160, password_hash, OP_EQUAL, OP_ENDIF]\n",
    "    txin = create_txin(txid_to_spend, utxo_index)\n",
    "\n",
    "    txin_scriptSig = [(PASSWORD).to_bytes(30, byteorder=\"little\"), OP_FALSE]\n",
    "\n",
    "    new_tx = create_signed_transaction([txin], [txout], [txin_scriptPubKey], [txin_scriptSig])\n",
    "\n",
    "    return broadcast_transaction(new_tx)"
   ]
  },
  {
   "cell_type": "code",
   "execution_count": null,
   "id": "169eca04",
   "metadata": {
    "colab": {
     "base_uri": "https://localhost:8080/"
    },
    "id": "dIaemUxzY23D",
    "outputId": "b02cc6aa-6587-4c03-8b23-02995e619bef"
   },
   "outputs": [
    {
     "name": "stdout",
     "output_type": "stream",
     "text": [
      "my address:  mjjtHVT4DmR11GH8rUC6r9obR42x9ssDV8\n",
      "my public key:  02897ad0f50681a5eada729ffe28da50a351479100beb99b4ba83df7b8134bcf92\n",
      "my private key:  261a7b24b4122757251a7882a99ba9b68674448bd8d9e169106e570d4872b48e01\n",
      "response status code:  201\n",
      "reponse reason:  Created\n",
      "response text:  {\n",
      "  \"tx\": {\n",
      "    \"block_height\": -1,\n",
      "    \"block_index\": -1,\n",
      "    \"hash\": \"23de93f06b371c06195c4c1995dcef61a3d3e03e45b61cfd8cf7b8c3ef0e008f\",\n",
      "    \"addresses\": [\n",
      "      \"mjjtHVT4DmR11GH8rUC6r9obR42x9ssDV8\"\n",
      "    ],\n",
      "    \"total\": 129,\n",
      "    \"fees\": 5000,\n",
      "    \"size\": 117,\n",
      "    \"vsize\": 117,\n",
      "    \"preference\": \"low\",\n",
      "    \"relayed_by\": \"34.125.143.10\",\n",
      "    \"received\": \"2024-05-29T18:39:01.080657405Z\",\n",
      "    \"ver\": 1,\n",
      "    \"double_spend\": false,\n",
      "    \"vin_sz\": 1,\n",
      "    \"vout_sz\": 1,\n",
      "    \"confirmations\": 0,\n",
      "    \"inputs\": [\n",
      "      {\n",
      "        \"prev_hash\": \"630b771a5d9a6043c229d7edc148d46ec93007e56fef2e98076f4ff79f2bfcf6\",\n",
      "        \"output_index\": 0,\n",
      "        \"script\": \"1ea1254930000000000000000000000000000000000000000000000000000000\",\n",
      "        \"output_value\": 5129,\n",
      "        \"sequence\": 4294967295,\n",
      "        \"script_type\": \"unknown\",\n",
      "        \"age\": 0\n",
      "      }\n",
      "    ],\n",
      "    \"outputs\": [\n",
      "      {\n",
      "        \"value\": 129,\n",
      "        \"script\": \"76a9142e5290420e353aa43731e3419c9b732f538479da88ac\",\n",
      "        \"addresses\": [\n",
      "          \"mjjtHVT4DmR11GH8rUC6r9obR42x9ssDV8\"\n",
      "        ],\n",
      "        \"script_type\": \"pay-to-pubkey-hash\"\n",
      "      }\n",
      "    ]\n",
      "  }\n",
      "}\n"
     ]
    }
   ],
   "source": [
    "all_money = 0.00005129\n",
    "amount_to_send = 0.00000129\n",
    "txid_to_spend = ('630b771a5d9a6043c229d7edc148d46ec93007e56fef2e98076f4ff79f2bfcf6')\n",
    "utxo_index = 0\n",
    "\n",
    "print(\"my address: \", my_address)\n",
    "print(\"my public key: \", my_public_key.hex())\n",
    "print(\"my private key: \", my_private_key.hex())\n",
    "response = send_from_P2PKH_transaction(amount_to_send, txid_to_spend, utxo_index)\n",
    "print(\"response status code: \", response.status_code)\n",
    "print(\"reponse reason: \", response.reason)\n",
    "print(\"response text: \", response.text)"
   ]
  },
  {
   "cell_type": "markdown",
   "id": "038de5c7",
   "metadata": {},
   "source": [
    "#### [transaction link](https://live.blockcypher.com/btc-testnet/tx/23de93f06b371c06195c4c1995dcef61a3d3e03e45b61cfd8cf7b8c3ef0e008f/)\n",
    "<p align=\"center\">\n",
    "    <img src=\"screenshots/q3-3.png\" alt=\"Image Description\">\n",
    "</p>"
   ]
  },
  {
   "cell_type": "markdown",
   "id": "ff1839ff",
   "metadata": {},
   "source": [
    "We make the transaction again and this time in spending we give birth year and current year to evaluate the age."
   ]
  },
  {
   "cell_type": "code",
   "execution_count": null,
   "id": "0d009fca",
   "metadata": {
    "colab": {
     "base_uri": "https://localhost:8080/"
    },
    "id": "6_4t8v1Sqfwn",
    "outputId": "f5aa2dc4-5db8-4b22-b020-97d9c2daef13"
   },
   "outputs": [
    {
     "name": "stdout",
     "output_type": "stream",
     "text": [
      "Private Key (hex): ba6e6436465d1a91d18bf95eaa1ff05c42d3bb885c28d8a4d83c45c2184665f4\n",
      "Public Key (hex): 03c2e84df5cea5444a7a7953d056aeda123c8446c777e04751aec147418a82fda0\n",
      "WIF Private Key: cTq6jBjm38BNWyfEfus5oszTCUEfSpwCuJuWcaX3rg4v8q4ZWUvR\n",
      "Bitcoin Testnet Address: mqwU9YE1Emo7An4PjhmSJbvU5Gqkv3PHR2\n"
     ]
    }
   ],
   "source": [
    "private_key = generate_private_key()\n",
    "public_key = private_key_to_public_key(private_key, compressed=True)\n",
    "wif_private_key = private_key_to_wif(private_key, compressed=True, testnet=True)\n",
    "bitcoin_address = public_key_to_address(public_key, testnet=True)\n",
    "\n",
    "print(f'Private Key (hex): {private_key.hex()}')\n",
    "print(f'Public Key (hex): {public_key.hex()}')\n",
    "print(f'WIF Private Key: {wif_private_key}')\n",
    "print(f'Bitcoin Testnet Address: {bitcoin_address}')"
   ]
  },
  {
   "cell_type": "markdown",
   "id": "9dcd1ecd",
   "metadata": {},
   "source": [
    "#### [transaction link](https://live.blockcypher.com/btc-testnet/tx/72d18bab425a15620f74752a936538d28d1d86d5fafb199f70e5e53916c86f6c/)\n",
    "\n",
    "<p align=\"center\">\n",
    "    <img src=\"screenshots/q3-4.png\" alt=\"Image Description\">\n",
    "</p>"
   ]
  },
  {
   "cell_type": "code",
   "execution_count": 34,
   "id": "aa37da18",
   "metadata": {
    "colab": {
     "base_uri": "https://localhost:8080/"
    },
    "id": "MdCD7JExthRK",
    "outputId": "384ad0a6-adf6-4079-bf28-e9535ca23341"
   },
   "outputs": [
    {
     "name": "stdout",
     "output_type": "stream",
     "text": [
      "my address:  mqwU9YE1Emo7An4PjhmSJbvU5Gqkv3PHR2\n",
      "my public key:  03c2e84df5cea5444a7a7953d056aeda123c8446c777e04751aec147418a82fda0\n",
      "my private key:  ba6e6436465d1a91d18bf95eaa1ff05c42d3bb885c28d8a4d83c45c2184665f401\n",
      "response status code:  201\n",
      "reponse reason:  Created\n",
      "response text:  {\n",
      "  \"tx\": {\n",
      "    \"block_height\": -1,\n",
      "    \"block_index\": -1,\n",
      "    \"hash\": \"72d18bab425a15620f74752a936538d28d1d86d5fafb199f70e5e53916c86f6c\",\n",
      "    \"addresses\": [\n",
      "      \"mqwU9YE1Emo7An4PjhmSJbvU5Gqkv3PHR2\"\n",
      "    ],\n",
      "    \"total\": 4099,\n",
      "    \"fees\": 10000,\n",
      "    \"size\": 196,\n",
      "    \"vsize\": 196,\n",
      "    \"preference\": \"low\",\n",
      "    \"relayed_by\": \"34.125.143.10\",\n",
      "    \"received\": \"2024-05-29T19:03:03.831023174Z\",\n",
      "    \"ver\": 1,\n",
      "    \"double_spend\": false,\n",
      "    \"vin_sz\": 1,\n",
      "    \"vout_sz\": 1,\n",
      "    \"confirmations\": 0,\n",
      "    \"inputs\": [\n",
      "      {\n",
      "        \"prev_hash\": \"5f6071c47a323bcafeb6d14bc9ede4791d169e3d525dcd014c5ce5347ff4ecb6\",\n",
      "        \"output_index\": 1,\n",
      "        \"script\": \"473044022058d4ed5bcc4826874a451c6e9dfa221519ebc8135be544afbdab32328b638b79022065b05ab8e8a661636973bf0a5c5487dbe503341217ccacf451bc35650839cda0012103c2e84df5cea5444a7a7953d056aeda123c8446c777e04751aec147418a82fda0\",\n",
      "        \"output_value\": 14099,\n",
      "        \"sequence\": 4294967295,\n",
      "        \"addresses\": [\n",
      "          \"mqwU9YE1Emo7An4PjhmSJbvU5Gqkv3PHR2\"\n",
      "        ],\n",
      "        \"script_type\": \"pay-to-pubkey-hash\",\n",
      "        \"age\": 0\n",
      "      }\n",
      "    ],\n",
      "    \"outputs\": [\n",
      "      {\n",
      "        \"value\": 4099,\n",
      "        \"script\": \"63940112a067a9142dc0ce4cbffad96898e7dacf4f7011f53d14b9b68768\",\n",
      "        \"addresses\": null,\n",
      "        \"script_type\": \"unknown\"\n",
      "      }\n",
      "    ]\n",
      "  }\n",
      "}\n"
     ]
    }
   ],
   "source": [
    "pv_key = \"cTq6jBjm38BNWyfEfus5oszTCUEfSpwCuJuWcaX3rg4v8q4ZWUvR\"\n",
    "my_private_key = bitcoin.wallet.CBitcoinSecret(pv_key)\n",
    "my_public_key = my_private_key.pub\n",
    "my_address = bitcoin.wallet.P2PKHBitcoinAddress.from_pubkey(my_public_key)\n",
    "\n",
    "def send_from_P2PKH_transaction(amount_to_send, txid_to_spend, utxo_index):\n",
    "    txout = get_txout_scriptPubKeys(amount_to_send)\n",
    "    txin_scriptPubKey = P2PKH_scriptPubKey(my_public_key)\n",
    "    txin = create_txin(txid_to_spend, utxo_index)\n",
    "    txin_scriptSig = P2PKH_scriptSig([txin], [txout], txin_scriptPubKey)\n",
    "    new_tx = create_signed_transaction([txin], [txout], [txin_scriptPubKey], [txin_scriptSig])\n",
    "    return broadcast_transaction(new_tx)\n",
    "\n",
    "\n",
    "all_money = 0.00014099\n",
    "amount_to_send = 0.00004099\n",
    "txid_to_spend = ('5f6071c47a323bcafeb6d14bc9ede4791d169e3d525dcd014c5ce5347ff4ecb6')\n",
    "utxo_index = 1\n",
    "print(\"my address: \", my_address)\n",
    "print(\"my public key: \", my_public_key.hex())\n",
    "print(\"my private key: \", my_private_key.hex())\n",
    "response = send_from_P2PKH_transaction(amount_to_send, txid_to_spend, utxo_index)\n",
    "print(\"response status code: \", response.status_code)\n",
    "print(\"reponse reason: \", response.reason)\n",
    "print(\"response text: \", response.text)"
   ]
  },
  {
   "cell_type": "markdown",
   "id": "9c07f512",
   "metadata": {},
   "source": [
    "#### [transaction link](https://live.blockcypher.com/btc-testnet/tx/72d18bab425a15620f74752a936538d28d1d86d5fafb199f70e5e53916c86f6c/)\n",
    "<p align=\"center\">\n",
    "    <img src=\"screenshots/q3-5.png\" alt=\"Image Description\">\n",
    "</p>"
   ]
  },
  {
   "cell_type": "code",
   "execution_count": 35,
   "id": "f89f2f72",
   "metadata": {
    "colab": {
     "base_uri": "https://localhost:8080/"
    },
    "id": "5YuAOPd9vAtF",
    "outputId": "fb60b388-2e6a-4353-bba2-8587e9cbffe1"
   },
   "outputs": [
    {
     "name": "stdout",
     "output_type": "stream",
     "text": [
      "my address:  mqwU9YE1Emo7An4PjhmSJbvU5Gqkv3PHR2\n",
      "my public key:  03c2e84df5cea5444a7a7953d056aeda123c8446c777e04751aec147418a82fda0\n",
      "my private key:  ba6e6436465d1a91d18bf95eaa1ff05c42d3bb885c28d8a4d83c45c2184665f401\n",
      "response status code:  201\n",
      "reponse reason:  Created\n",
      "response text:  {\n",
      "  \"tx\": {\n",
      "    \"block_height\": -1,\n",
      "    \"block_index\": -1,\n",
      "    \"hash\": \"302c291a456990c900fcabd58c3ca3fbfc2ea9bfe381847327351cc4bff64f6c\",\n",
      "    \"addresses\": [\n",
      "      \"mqwU9YE1Emo7An4PjhmSJbvU5Gqkv3PHR2\"\n",
      "    ],\n",
      "    \"total\": 99,\n",
      "    \"fees\": 4000,\n",
      "    \"size\": 117,\n",
      "    \"vsize\": 117,\n",
      "    \"preference\": \"low\",\n",
      "    \"relayed_by\": \"34.125.143.10\",\n",
      "    \"received\": \"2024-05-29T19:03:40.695512626Z\",\n",
      "    \"ver\": 1,\n",
      "    \"double_spend\": false,\n",
      "    \"vin_sz\": 1,\n",
      "    \"vout_sz\": 1,\n",
      "    \"confirmations\": 0,\n",
      "    \"inputs\": [\n",
      "      {\n",
      "        \"prev_hash\": \"72d18bab425a15620f74752a936538d28d1d86d5fafb199f70e5e53916c86f6c\",\n",
      "        \"output_index\": 0,\n",
      "        \"script\": \"1ea1254930000000000000000000000000000000000000000000000000000000\",\n",
      "        \"output_value\": 4099,\n",
      "        \"sequence\": 4294967295,\n",
      "        \"script_type\": \"unknown\",\n",
      "        \"age\": 0\n",
      "      }\n",
      "    ],\n",
      "    \"outputs\": [\n",
      "      {\n",
      "        \"value\": 99,\n",
      "        \"script\": \"76a9147254293e8a66778a1f463bbb4c4717e16521416988ac\",\n",
      "        \"addresses\": [\n",
      "          \"mqwU9YE1Emo7An4PjhmSJbvU5Gqkv3PHR2\"\n",
      "        ],\n",
      "        \"script_type\": \"pay-to-pubkey-hash\"\n",
      "      }\n",
      "    ]\n",
      "  }\n",
      "}\n"
     ]
    }
   ],
   "source": [
    "def send_from_P2PKH_transaction(amount_to_send, txid_to_spend, utxo_index):\n",
    "    txout_scriptPubKey = P2PKH_scriptPubKey(my_public_key)\n",
    "    txout = create_txout(amount_to_send, txout_scriptPubKey)\n",
    "    PASSWORD = 810100129\n",
    "    password_hash = Hash160((PASSWORD).to_bytes(30, byteorder=\"little\"))\n",
    "\n",
    "    txin_scriptPubKey = [OP_IF, OP_SUB, 18, OP_GREATERTHAN, OP_ELSE, OP_HASH160, password_hash, OP_EQUAL, OP_ENDIF]\n",
    "    txin = create_txin(txid_to_spend, utxo_index)\n",
    "\n",
    "    txin_scriptSig = [2024, 2002, OP_TRUE]\n",
    "\n",
    "    new_tx = create_signed_transaction([txin], [txout], [txin_scriptPubKey], [txin_scriptSig])\n",
    "\n",
    "    return broadcast_transaction(new_tx)\n",
    "\n",
    "all_money = 0.00004099\n",
    "amount_to_send = 00.00000099\n",
    "txid_to_spend = ('72d18bab425a15620f74752a936538d28d1d86d5fafb199f70e5e53916c86f6c')\n",
    "utxo_index = 0\n",
    "\n",
    "print(\"my address: \", my_address)\n",
    "print(\"my public key: \", my_public_key.hex())\n",
    "print(\"my private key: \", my_private_key.hex())\n",
    "response = send_from_P2PKH_transaction(amount_to_send, txid_to_spend, utxo_index)\n",
    "print(\"response status code: \", response.status_code)\n",
    "print(\"reponse reason: \", response.reason)\n",
    "print(\"response text: \", response.text)"
   ]
  },
  {
   "cell_type": "markdown",
   "id": "6cc6656b",
   "metadata": {},
   "source": [
    "#### [transaction link](https://live.blockcypher.com/btc-testnet/tx/302c291a456990c900fcabd58c3ca3fbfc2ea9bfe381847327351cc4bff64f6c/)\n",
    "<p align=\"center\">\n",
    "    <img src=\"screenshots/q3-6.png\" alt=\"Image Description\">\n",
    "</p>"
   ]
  },
  {
   "cell_type": "markdown",
   "id": "b24be358",
   "metadata": {},
   "source": [
    "## Questions\n",
    "\n",
    "### Proof of burn \n",
    "\n",
    "Proof of Burn is a consensus mechanism in blockchain where users \"burn\" their coins (send them to an address that cannot be spent from), in exchange for gaining some form of network credit. Essentially, coins are intentionally removed from circulation and \"destroyed\" to demonstrate that the user has sacrificed valuable resources to participate in the network.\n",
    "\n",
    "Economic Impact of Burning Coins: Burning coins can stabilize the value of a cryptocurrency network in several ways:\n",
    "\n",
    "* Reducing Supply: By permanently removing coins from circulation, the total supply of the cryptocurrency is reduced. This can increase scarcity, potentially increasing the value of the remaining coins if demand remains constant or increases.\n",
    "\n",
    "* Incentivizing Long-Term Commitment: Participants who burn coins demonstrate a long-term commitment to the network, which can foster trust and stability. This commitment can be particularly important for new or developing networks.\n",
    "\n",
    "* Counteracting Inflation: Many cryptocurrencies have a continuous issuance of new coins (inflation). Burning coins can help counteract inflationary pressures, thereby helping to maintain the purchasing power of the cryptocurrency.\n",
    "\n",
    "* Network Participation: Burning coins can be used as a way to gain privileges within the network, such as mining rights, voting power, or other forms of influence. This incentivizes participants to engage with and support the network, contributing to its overall health and stability.\n"
   ]
  },
  {
   "cell_type": "markdown",
   "id": "13e5dc7e",
   "metadata": {},
   "source": [
    "### Bitcoin scripting language\n",
    "\n",
    "The Bitcoin scripting language, known simply as Bitcoin Script, is a stack-based scripting language used to define the conditions under which a Bitcoin transaction output can be spent. Bitcoin Script is intentionally designed to be simple and limited in functionality to ensure security and predictability.\n",
    "\n",
    "Is Bitcoin Script Turing Complete?\n",
    "No, Bitcoin Script is not Turing Complete. A Turing Complete language can perform any computation given enough time and resources, meaning it can implement any algorithm. Bitcoin Script lacks several features required for Turing Completeness, such as loops and more complex control flow structures, to avoid potential security risks like infinite loops or excessive resource consumption.\n",
    "\n",
    "Advantages of Using a Turing Complete Language:\n",
    "\n",
    "* Increased Functionality and Flexibility: A Turing Complete language can execute more complex and sophisticated contracts. This would allow for the implementation of advanced features like multi-step transactions, conditional operations, and state-dependent logic.\n",
    "\n",
    "* Enhanced Decentralized Applications (dApps): With Turing Completeness, it is possible to create more versatile and powerful decentralized applications (dApps) that can perform a wide variety of tasks, from decentralized finance (DeFi) to complex automated processes.\n",
    "\n",
    "* Smart Contracts: A Turing Complete language allows for the creation of smart contracts that can handle complex business logic and automate processes without the need for intermediaries. Ethereum's Solidity is an example of a Turing Complete language that facilitates such contracts.\n",
    "\n",
    "However, there are also potential disadvantages:\n",
    "\n",
    "* Security Risks: Turing Complete languages can be more prone to bugs and vulnerabilities, such as infinite loops or unexpected behaviors, which can be exploited by malicious actors.\n",
    "\n",
    "* Increased Complexity: The complexity of a Turing Complete language can make it more difficult to audit and verify the correctness and security of scripts, potentially leading to more frequent errors or security breaches.\n",
    "\n",
    "* Resource Consumption: More complex computations can consume more network resources, leading to higher transaction costs and slower execution times."
   ]
  },
  {
   "cell_type": "markdown",
   "id": "1337318b",
   "metadata": {},
   "source": [
    "## Part 2: Running an Ethereum Node\n",
    "\n",
    "### Step 1: Install Geth\n",
    "\n",
    "<p align=\"center\">\n",
    "    <img src=\"screenshots/1-1.png\" alt=\"Image Description\" width=\"800\" height=\"400\">\n",
    "</p>\n",
    "\n",
    "<p align=\"center\">\n",
    "    <img src=\"screenshots/1-2.png\" alt=\"Image Description\" width=\"800\" height=\"400\">\n",
    "</p>\n",
    "\n",
    "<p align=\"center\">\n",
    "    <img src=\"screenshots/1-3.png\" alt=\"Image Description\" width=\"800\" height=\"400\">\n",
    "</p>\n",
    "\n",
    "`geth --help` command:\n",
    "\n",
    "* NAME: Provides the name of the command-line interface, which is geth in this case.\n",
    "\n",
    "* USAGE: Specifies how to use the geth command, including options, commands, and arguments.\n",
    "\n",
    "* VERSION: Displays the version number of the geth software.\n",
    "\n",
    "* COMMANDS: Lists the available commands that you can use with geth, such as managing accounts, starting an interactive environment, initializing a new genesis block, etc.\n",
    "\n",
    "* GLOBAL OPTIONS: Enumerates the options that apply globally to the geth command, such as configuration settings, data directory, synchronization mode, network settings, logging verbosity, etc.\n"
   ]
  },
  {
   "cell_type": "markdown",
   "id": "564bdda6",
   "metadata": {},
   "source": [
    "### Step 2: Config genesis block\n",
    "\n",
    "<p align=\"center\">\n",
    "    <img src=\"screenshots/2-1.png\" alt=\"Image Description\" width=\"800\" height=\"400\">\n",
    "\n"
   ]
  },
  {
   "cell_type": "markdown",
   "id": "32c14677",
   "metadata": {},
   "source": [
    "### Step 3: Creating 3 nodes\n",
    "\n",
    "<p align=\"center\">\n",
    "    <img src=\"screenshots/3-1.png\" alt=\"Image Description\" width=\"800\" height=\"400\">\n",
    "\n",
    "#### **Question 1: What's the use of nodes in network and what does light node and full node mean?**\n",
    "\n",
    "* Verification: Nodes verify and validate transactions and blocks on the network, ensuring that the transactions adhere to the consensus rules of the blockchain.\n",
    "\n",
    "* Propagation: Nodes propagate transactions and blocks to other nodes, helping to disseminate new information across the network.\n",
    "\n",
    "* Consensus: Nodes participate in the consensus mechanism of the blockchain network, whether it's proof-of-work (as in Ethereum's current state) or another consensus algorithm.\n",
    "\n",
    "* Storage: Nodes store a copy of the entire blockchain ledger, allowing them to provide historical data and support new nodes joining the network.\n",
    "\n",
    "`Light Node`: Light nodes are designed for users who don't need to store the entire blockchain or participate fully in the network's consensus process.\n",
    "\n",
    "`Full Node`: Full nodes are integral to the security and decentralization of the network. They maintain a complete copy of the blockchain ledger and actively participate in the consensus process.\n"
   ]
  },
  {
   "cell_type": "markdown",
   "id": "71a34540",
   "metadata": {},
   "source": [
    "### Step 4: Creating accounts and Starting nodes\n",
    "\n",
    "<p align=\"center\">\n",
    "    <img src=\"screenshots/4-1.png\" alt=\"Image Description\" width=\"800\" height=\"400\">\n",
    "\n",
    "<p align=\"center\">\n",
    "    <img src=\"screenshots/4-2.png\" alt=\"Image Description\" width=\"800\" height=\"400\">\n",
    "\n",
    "<p align=\"center\">\n",
    "    <img src=\"screenshots/4-3.png\" alt=\"Image Description\" width=\"800\" height=\"400\">\n",
    "\n",
    "<p align=\"center\"> \n",
    "    <img src=\"screenshots/4-4.png\" alt=\"Image Description\" width=\"800\" height=\"400\">"
   ]
  },
  {
   "cell_type": "markdown",
   "id": "40b858eb",
   "metadata": {},
   "source": [
    "#### Step 5: Initializing Nodes and Running them\n",
    "\n",
    "<p align=\"center\">\n",
    "    <img src=\"screenshots/5-1.png\" alt=\"Image Description\" width=\"800\" height=\"400\">\n",
    "\n",
    "<p align=\"center\">\n",
    "    <img src=\"screenshots/5-2.png\" alt=\"Image Description\" width=\"800\" height=\"400\">\n",
    "\n",
    "<p align=\"center\">\n",
    "    <img src=\"screenshots/5-3.png\" alt=\"Image Description\" width=\"800\" height=\"400\">\n",
    "\n",
    "<p align=\"center\">  \n",
    "    <img src=\"screenshots/5-4.png\" alt=\"Image Description\" width=\"800\" height=\"400\">\n",
    "\n",
    "<p align=\"center\">  \n",
    "    <img src=\"screenshots/5-5.png\" alt=\"Image Description\" width=\"800\" height=\"400\">"
   ]
  },
  {
   "cell_type": "markdown",
   "id": "2bd406a4",
   "metadata": {},
   "source": [
    "### Step 6: Connecting to a node\n",
    "\n",
    "<p align=\"center\">\n",
    "    <img src=\"screenshots/6-1.png\" alt=\"Image Description\" width=\"800\" height=\"400\">\n"
   ]
  },
  {
   "cell_type": "markdown",
   "id": "74427482",
   "metadata": {},
   "source": [
    "### Step 7: Connecting nodes to each other\n",
    "\n",
    "<p align=\"center\">\n",
    "    <img src=\"screenshots/7-1.png\" alt=\"Image Description\" >\n",
    "\n",
    "For The main node:\n",
    "\n",
    "<p align=\"center\">\n",
    "    <img src=\"screenshots/7-2.png\" alt=\"Image Description\" >\n",
    "\n",
    "For other nodes:\n",
    "\n",
    "<p align=\"center\">\n",
    "    <img src=\"screenshots/7-3.png\" alt=\"Image Description\">"
   ]
  },
  {
   "cell_type": "markdown",
   "id": "231f549d",
   "metadata": {},
   "source": [
    "### Step 8: Creating a transaction\n",
    "\n",
    "<p align=\"center\">\n",
    "    <img src=\"screenshots/8-1.png\" alt=\"Image Description\">\n",
    "\n",
    "<p align=\"center\">\n",
    "    <img src=\"screenshots/8-2.png\" alt=\"Image Description\">\n",
    "\n",
    "<p align=\"center\">\n",
    "    <img src=\"screenshots/8-3.png\" alt=\"Image Description\">\n",
    "\n",
    "<p align=\"center\">\n",
    "    <img src=\"screenshots/8-4.png\" alt=\"Image Description\">"
   ]
  },
  {
   "cell_type": "markdown",
   "id": "870c6378",
   "metadata": {},
   "source": [
    "#### **Question 2: Explain the logs in the mining process**\n",
    "\n",
    "Explanation of Log Entries:\n",
    "\n",
    "`INFO [05-28|02:35:53.848] Mined potential block                  number=22 hash=316890..0700ee`\n",
    "\n",
    "* [05-28|02:35:53.848]: Timestamp indicating when the event occurred.\n",
    "* Mined potential block: Message indicating a potential block has been mined.\n",
    "* number=22: The block number.\n",
    "* hash=316890..0700ee: The hash of the block.\n",
    "\n",
    "`INFO [05-28|02:35:53.848] Mined potential block                  number=22 hash=316890..0700ee`\n",
    "\n",
    "Indicates that a new block has been mined and is a candidate to be added to the blockchain.\n",
    "The block number and hash are provided for reference.\n",
    "Commit New Sealing Work:\n",
    "\n",
    "\n",
    "`INFO [05-28|02:35:53.851] Commit new sealing work `\n",
    "\n",
    "Indicates that the mining process is starting new work on sealing (mining) the next block.\n",
    "Successfully Sealed New Block:\n",
    "\n",
    "\n",
    "`INFO [05-28|02:35:53.851] Successfully sealed new block           number=23 sealhash=7a58b8..db0828`\n",
    "\n",
    "Indicates that the block has been successfully sealed (mined).\n",
    "The block number and seal hash are provided.\n",
    "Block Reached Canonical Chain:\n",
    "\n",
    "\n",
    "`INFO [05-28|02:35:53.851] \"block reached canonical chain\"       number=16 hash=25ecb9..00baad`\n",
    "\n",
    "Indicates that the mined block has been accepted into the main blockchain (canonical chain).\n",
    "The block number and hash are provided.\n",
    "\n",
    "`INFO [05-28|02:35:54.199] Generating DAG in progress epoch=1 percentage=72 elapsed=2m34.219s`\n",
    "\n",
    "Indicates that the Directed Acyclic Graph (DAG) is being generated for the mining process.\n",
    "The epoch, percentage of completion, and elapsed time are provided.\n",
    "\n",
    "\n",
    "`elapsed=882.594ms`\n",
    "\n",
    "Indicates the time taken for a specific action, in this case, the time taken to reach the canonical chain.\n",
    "\n",
    "From the logs We can say the mining process is like this:\n",
    "\n",
    "1. Mined Potential Block: A potential block is mined and considered for addition to the blockchain.\n",
    "\n",
    "2. Commit New Sealing Work: The miner starts working on the next block.\n",
    "\n",
    "3. Successfully Sealed New Block: The mined block is successfully sealed, meaning it is ready to be added to the blockchain.\n",
    "\n",
    "4. Block Reached Canonical Chain: The block is accepted into the canonical chain.\n",
    "\n",
    "5. Generating DAG: Periodically, the mining process involves generating a new DAG file, which is essential for the Ethash proof-of-work algorithm used by Ethereum."
   ]
  },
  {
   "cell_type": "markdown",
   "id": "01e0c0c0",
   "metadata": {},
   "source": [
    "#### **Question 3: Since 2015, up to now, 19722000 blocks have been mined in the main Ethereum network. Suppose that as an exercise as an attacker, we quickly mine up to block 19722000 in our local blockchain, and then attempt to broadcast it to the network, claiming that our local blockchain is the true main Ethereum blockchain! Can we do such a thing? If yes, explain the circumstances under which this would succeed, and if not, explain why it would fail.**\n",
    "\n",
    "No, it is not possible to successfully broadcast a local blockchain as the true main Ethereum blockchain. This is because the Ethereum network operates on a consensus mechanism that requires a majority of nodes to agree on the validity of blocks and transactions. Because other full nodes on the network have a copy of the entire blockchain and are actively participating in the consensus process, they would reject the local blockchain as it does not match the network's version of the blockchain.\n",
    "\n",
    "Also we won't have the computational power to mine all the blocks up to block 19722000 in our local blockchain. The main Ethereum network has a large number of miners and nodes, making it practically impossible for a single entity to mine all the blocks and overtake the network.\n",
    "\n",
    "Also We don't broadcast the whole blockchain, we broadcast the blocks we mined and the network will verify the blocks and if they are valid, other nodes will add them to their blockchain so broadcasting all those blocks is practically impossible."
   ]
  }
 ],
 "metadata": {},
 "nbformat": 4,
 "nbformat_minor": 5
}
