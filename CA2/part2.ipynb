{
 "cells": [
  {
   "cell_type": "markdown",
   "metadata": {},
   "source": [
    "## Part 2: Running an Ethereum Node\n",
    "\n",
    "### Step 1: Install Geth\n",
    "\n",
    "<p align=\"center\">\n",
    "    <img src=\"screenshots/1-1.png\" alt=\"Image Description\" width=\"800\" height=\"400\">\n",
    "</p>\n",
    "\n",
    "<p align=\"center\">\n",
    "    <img src=\"screenshots/1-2.png\" alt=\"Image Description\" width=\"800\" height=\"400\">\n",
    "</p>\n",
    "\n",
    "<p align=\"center\">\n",
    "    <img src=\"screenshots/1-3.png\" alt=\"Image Description\" width=\"800\" height=\"400\">\n",
    "</p>\n",
    "\n",
    "`geth --help` command:\n",
    "\n",
    "* NAME: Provides the name of the command-line interface, which is geth in this case.\n",
    "\n",
    "* USAGE: Specifies how to use the geth command, including options, commands, and arguments.\n",
    "\n",
    "* VERSION: Displays the version number of the geth software.\n",
    "\n",
    "* COMMANDS: Lists the available commands that you can use with geth, such as managing accounts, starting an interactive environment, initializing a new genesis block, etc.\n",
    "\n",
    "* GLOBAL OPTIONS: Enumerates the options that apply globally to the geth command, such as configuration settings, data directory, synchronization mode, network settings, logging verbosity, etc.\n"
   ]
  },
  {
   "cell_type": "markdown",
   "metadata": {},
   "source": [
    "### Step 2: Config genesis block\n",
    "\n",
    "<p align=\"center\">\n",
    "    <img src=\"screenshots/2-1.png\" alt=\"Image Description\" width=\"800\" height=\"400\">\n",
    "\n"
   ]
  },
  {
   "cell_type": "markdown",
   "metadata": {},
   "source": [
    "### Step 3: Creating 3 nodes\n",
    "\n",
    "<p align=\"center\">\n",
    "    <img src=\"screenshots/3-1.png\" alt=\"Image Description\" width=\"800\" height=\"400\">\n",
    "\n",
    "#### **Question 1: What's the use of nodes in network and what does light node and full node mean?**\n",
    "\n",
    "* Verification: Nodes verify and validate transactions and blocks on the network, ensuring that the transactions adhere to the consensus rules of the blockchain.\n",
    "\n",
    "* Propagation: Nodes propagate transactions and blocks to other nodes, helping to disseminate new information across the network.\n",
    "\n",
    "* Consensus: Nodes participate in the consensus mechanism of the blockchain network, whether it's proof-of-work (as in Ethereum's current state) or another consensus algorithm.\n",
    "\n",
    "* Storage: Nodes store a copy of the entire blockchain ledger, allowing them to provide historical data and support new nodes joining the network.\n",
    "\n",
    "`Light Node`: Light nodes are designed for users who don't need to store the entire blockchain or participate fully in the network's consensus process.\n",
    "\n",
    "`Full Node`: Full nodes are integral to the security and decentralization of the network. They maintain a complete copy of the blockchain ledger and actively participate in the consensus process.\n"
   ]
  },
  {
   "cell_type": "markdown",
   "metadata": {},
   "source": [
    "### Step 4: Creating accounts and Starting nodes\n",
    "\n",
    "<p align=\"center\">\n",
    "    <img src=\"screenshots/4-1.png\" alt=\"Image Description\" width=\"800\" height=\"400\">\n",
    "\n",
    "<p align=\"center\">\n",
    "    <img src=\"screenshots/4-2.png\" alt=\"Image Description\" width=\"800\" height=\"400\">\n",
    "\n",
    "<p align=\"center\">\n",
    "    <img src=\"screenshots/4-3.png\" alt=\"Image Description\" width=\"800\" height=\"400\">\n",
    "\n",
    "<p align=\"center\"> \n",
    "    <img src=\"screenshots/4-4.png\" alt=\"Image Description\" width=\"800\" height=\"400\">"
   ]
  },
  {
   "cell_type": "markdown",
   "metadata": {},
   "source": [
    "#### Step 5: Initializing Nodes and Running them\n",
    "\n",
    "<p align=\"center\">\n",
    "    <img src=\"screenshots/5-1.png\" alt=\"Image Description\" width=\"800\" height=\"400\">\n",
    "\n",
    "<p align=\"center\">\n",
    "    <img src=\"screenshots/5-2.png\" alt=\"Image Description\" width=\"800\" height=\"400\">\n",
    "\n",
    "<p align=\"center\">\n",
    "    <img src=\"screenshots/5-3.png\" alt=\"Image Description\" width=\"800\" height=\"400\">\n",
    "\n",
    "<p align=\"center\">  \n",
    "    <img src=\"screenshots/5-4.png\" alt=\"Image Description\" width=\"800\" height=\"400\">\n",
    "\n",
    "<p align=\"center\">  \n",
    "    <img src=\"screenshots/5-5.png\" alt=\"Image Description\" width=\"800\" height=\"400\">"
   ]
  },
  {
   "cell_type": "markdown",
   "metadata": {},
   "source": [
    "### Step 6: Connecting to a node\n",
    "\n",
    "<p align=\"center\">\n",
    "    <img src=\"screenshots/6-1.png\" alt=\"Image Description\" width=\"800\" height=\"400\">\n"
   ]
  },
  {
   "cell_type": "markdown",
   "metadata": {},
   "source": [
    "### Step 7: Connecting nodes to each other\n",
    "\n",
    "<p align=\"center\">\n",
    "    <img src=\"screenshots/7-1.png\" alt=\"Image Description\" >\n",
    "\n",
    "For The main node:\n",
    "\n",
    "<p align=\"center\">\n",
    "    <img src=\"screenshots/7-2.png\" alt=\"Image Description\" >\n",
    "\n",
    "For other nodes:\n",
    "\n",
    "<p align=\"center\">\n",
    "    <img src=\"screenshots/7-3.png\" alt=\"Image Description\">"
   ]
  },
  {
   "cell_type": "markdown",
   "metadata": {},
   "source": [
    "### Step 8: Creating a transaction\n",
    "\n",
    "<p align=\"center\">\n",
    "    <img src=\"screenshots/8-1.png\" alt=\"Image Description\">\n",
    "\n",
    "<p align=\"center\">\n",
    "    <img src=\"screenshots/8-2.png\" alt=\"Image Description\">\n",
    "\n",
    "<p align=\"center\">\n",
    "    <img src=\"screenshots/8-3.png\" alt=\"Image Description\">\n",
    "\n",
    "<p align=\"center\">\n",
    "    <img src=\"screenshots/8-4.png\" alt=\"Image Description\">"
   ]
  },
  {
   "cell_type": "markdown",
   "metadata": {},
   "source": [
    "#### **Question 2: Explain the logs in the mining process**\n",
    "\n",
    "Explanation of Log Entries:\n",
    "\n",
    "`INFO [05-28|02:35:53.848] Mined potential block                  number=22 hash=316890..0700ee`\n",
    "\n",
    "* [05-28|02:35:53.848]: Timestamp indicating when the event occurred.\n",
    "* Mined potential block: Message indicating a potential block has been mined.\n",
    "* number=22: The block number.\n",
    "* hash=316890..0700ee: The hash of the block.\n",
    "\n",
    "`INFO [05-28|02:35:53.848] Mined potential block                  number=22 hash=316890..0700ee`\n",
    "\n",
    "Indicates that a new block has been mined and is a candidate to be added to the blockchain.\n",
    "The block number and hash are provided for reference.\n",
    "Commit New Sealing Work:\n",
    "\n",
    "\n",
    "`INFO [05-28|02:35:53.851] Commit new sealing work `\n",
    "\n",
    "Indicates that the mining process is starting new work on sealing (mining) the next block.\n",
    "Successfully Sealed New Block:\n",
    "\n",
    "\n",
    "`INFO [05-28|02:35:53.851] Successfully sealed new block           number=23 sealhash=7a58b8..db0828`\n",
    "\n",
    "Indicates that the block has been successfully sealed (mined).\n",
    "The block number and seal hash are provided.\n",
    "Block Reached Canonical Chain:\n",
    "\n",
    "\n",
    "`INFO [05-28|02:35:53.851] \"block reached canonical chain\"       number=16 hash=25ecb9..00baad`\n",
    "\n",
    "Indicates that the mined block has been accepted into the main blockchain (canonical chain).\n",
    "The block number and hash are provided.\n",
    "\n",
    "`INFO [05-28|02:35:54.199] Generating DAG in progress epoch=1 percentage=72 elapsed=2m34.219s`\n",
    "\n",
    "Indicates that the Directed Acyclic Graph (DAG) is being generated for the mining process.\n",
    "The epoch, percentage of completion, and elapsed time are provided.\n",
    "\n",
    "\n",
    "`elapsed=882.594ms`\n",
    "\n",
    "Indicates the time taken for a specific action, in this case, the time taken to reach the canonical chain.\n",
    "\n",
    "From the logs We can say the mining process is like this:\n",
    "\n",
    "1. Mined Potential Block: A potential block is mined and considered for addition to the blockchain.\n",
    "\n",
    "2. Commit New Sealing Work: The miner starts working on the next block.\n",
    "\n",
    "3. Successfully Sealed New Block: The mined block is successfully sealed, meaning it is ready to be added to the blockchain.\n",
    "\n",
    "4. Block Reached Canonical Chain: The block is accepted into the canonical chain.\n",
    "\n",
    "5. Generating DAG: Periodically, the mining process involves generating a new DAG file, which is essential for the Ethash proof-of-work algorithm used by Ethereum."
   ]
  },
  {
   "cell_type": "markdown",
   "metadata": {},
   "source": [
    "#### **Question 3: Since 2015, up to now, 19722000 blocks have been mined in the main Ethereum network. Suppose that as an exercise as an attacker, we quickly mine up to block 19722000 in our local blockchain, and then attempt to broadcast it to the network, claiming that our local blockchain is the true main Ethereum blockchain! Can we do such a thing? If yes, explain the circumstances under which this would succeed, and if not, explain why it would fail.**\n",
    "\n",
    "No, it is not possible to successfully broadcast a local blockchain as the true main Ethereum blockchain. This is because the Ethereum network operates on a consensus mechanism that requires a majority of nodes to agree on the validity of blocks and transactions. Because other full nodes on the network have a copy of the entire blockchain and are actively participating in the consensus process, they would reject the local blockchain as it does not match the network's version of the blockchain.\n",
    "\n",
    "Also we won't have the computational power to mine all the blocks up to block 19722000 in our local blockchain. The main Ethereum network has a large number of miners and nodes, making it practically impossible for a single entity to mine all the blocks and overtake the network.\n",
    "\n",
    "Also We don't broadcast the whole blockchain, we broadcast the blocks we mined and the network will verify the blocks and if they are valid, other nodes will add them to their blockchain so broadcasting all those blocks is practically impossible."
   ]
  }
 ],
 "metadata": {
  "language_info": {
   "name": "python"
  }
 },
 "nbformat": 4,
 "nbformat_minor": 2
}
